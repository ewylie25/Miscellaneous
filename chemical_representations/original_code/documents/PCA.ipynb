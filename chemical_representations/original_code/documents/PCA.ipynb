{
 "metadata": {
  "name": "",
  "signature": "sha256:950122dc0235334e0b0ab74b308325959086d09043e12223adab96a025ab92bb"
 },
 "nbformat": 3,
 "nbformat_minor": 0,
 "worksheets": [
  {
   "cells": [
    {
     "cell_type": "code",
     "collapsed": false,
     "input": [
      "%matplotlib inline\n",
      "import numpy as np\n",
      "import matplotlib.pyplot as plt\n",
      "from sklearn.decomposition import PCA\n",
      "from sklearn.datasets import load_digits\n",
      "digits = load_digits()\n",
      "X = digits.data\n",
      "y = digits.target"
     ],
     "language": "python",
     "metadata": {},
     "outputs": [],
     "prompt_number": 9
    },
    {
     "cell_type": "code",
     "collapsed": false,
     "input": [
      "pca = PCA(2)  # project from 64 to 2 dimensions\n",
      "Xproj = pca.fit_transform(X)\n",
      "print(X.shape)\n",
      "print(Xproj.shape)"
     ],
     "language": "python",
     "metadata": {},
     "outputs": [
      {
       "output_type": "stream",
       "stream": "stdout",
       "text": [
        "(1797, 64)\n",
        "(1797, 2)\n"
       ]
      }
     ],
     "prompt_number": 10
    },
    {
     "cell_type": "code",
     "collapsed": false,
     "input": [
      "pca = PCA(64).fit(X)\n",
      "plt.semilogx(np.cumsum(pca.explained_variance_ratio_))\n",
      "plt.xlabel('number of components')\n",
      "plt.ylabel('cumulative explained variance')"
     ],
     "language": "python",
     "metadata": {},
     "outputs": [
      {
       "metadata": {},
       "output_type": "pyout",
       "prompt_number": 11,
       "text": [
        "<matplotlib.text.Text at 0x4e0e8d0>"
       ]
      },
      {
       "metadata": {},
       "output_type": "display_data",
       "png": "[encoded data removed]",
       "text": [
        "<matplotlib.figure.Figure at 0x4632cd0>"
       ]
      }
     ],
     "prompt_number": 11
    },
    {
     "cell_type": "code",
     "collapsed": false,
     "input": [
      "import elasticsearch"
     ],
     "language": "python",
     "metadata": {},
     "outputs": [],
     "prompt_number": 12
    },
    {
     "cell_type": "code",
     "collapsed": false,
     "input": [
      "es = elasticsearch.Elasticsearch?"
     ],
     "language": "python",
     "metadata": {},
     "outputs": [],
     "prompt_number": 13
    },
    {
     "cell_type": "code",
     "collapsed": false,
     "input": [
      "es = elasticsearch.Elasticsearch(hosts='129.105.52.35')"
     ],
     "language": "python",
     "metadata": {},
     "outputs": [],
     "prompt_number": 15
    },
    {
     "cell_type": "code",
     "collapsed": false,
     "input": [
      "data = es.search(index='dm_final', doc_type=\"chemical\", size = 500)"
     ],
     "language": "python",
     "metadata": {},
     "outputs": [],
     "prompt_number": 21
    },
    {
     "cell_type": "code",
     "collapsed": false,
     "input": [
      "data.keys()"
     ],
     "language": "python",
     "metadata": {},
     "outputs": [
      {
       "metadata": {},
       "output_type": "pyout",
       "prompt_number": 22,
       "text": [
        "[u'hits', u'_shards', u'took', u'timed_out']"
       ]
      }
     ],
     "prompt_number": 22
    },
    {
     "cell_type": "code",
     "collapsed": false,
     "input": [
      "data = data['hits']['hits']"
     ],
     "language": "python",
     "metadata": {},
     "outputs": [],
     "prompt_number": 23
    },
    {
     "cell_type": "code",
     "collapsed": false,
     "input": [
      "from collections import defaultdict\n",
      "print len(data)\n",
      "clean = defaultdict(list)"
     ],
     "language": "python",
     "metadata": {},
     "outputs": [
      {
       "output_type": "stream",
       "stream": "stdout",
       "text": [
        "500\n"
       ]
      }
     ],
     "prompt_number": 32
    },
    {
     "cell_type": "code",
     "collapsed": false,
     "input": [
      "for i in data:\n",
      "    d = i['_source']['body']\n",
      "    for j in d:\n",
      "        z = d[j]\n",
      "        base = np.zeros((311,311))\n",
      "        for k,v in z.items():\n",
      "            l,m = k.split('.')\n",
      "            base[int(l),int(m)]=v\n",
      "        clean[j].append(base)\n"
     ],
     "language": "python",
     "metadata": {},
     "outputs": [],
     "prompt_number": 34
    },
    {
     "cell_type": "code",
     "collapsed": false,
     "input": [
      "%whos"
     ],
     "language": "python",
     "metadata": {},
     "outputs": [
      {
       "output_type": "stream",
       "stream": "stdout",
       "text": [
        "Variable        Type             Data/Info\n",
        "------------------------------------------\n",
        "PCA             type             <class 'sklearn.decomposition.pca.PCA'>\n",
        "X               ndarray          1797x64: 115008 elems, type `float64`, 920064 bytes (898 kb)\n",
        "Xproj           ndarray          1797x2: 3594 elems, type `float64`, 28752 bytes\n",
        "base            ndarray          311x311: 96721 elems, type `float64`, 773768 bytes (755 kb)\n",
        "clean           defaultdict      defaultdict(<type 'list'><...> ...,  0.,  0.,  0.]])]})"
       ]
      },
      {
       "output_type": "stream",
       "stream": "stdout",
       "text": [
        "\n",
        "d               dict             n=10\n",
        "data            list             n=500\n",
        "defaultdict     type             <type 'collections.defaultdict'>\n",
        "digits          Bunch            {'images': array([[[  0.,<...>[0, 1, 2, ..., 8, 9, 8])}\n",
        "elasticsearch   module           <module 'elasticsearch' f<...>sticsearch/__init__.pyc'>\n",
        "es              Elasticsearch    <Elasticsearch([{'host': '129.105.52.35'}])>\n",
        "i               dict             n=5\n",
        "j               unicode          8\n",
        "k               unicode          226.226\n",
        "l               unicode          226\n",
        "load_digits     function         <function load_digits at 0x3152848>\n",
        "m               unicode          226\n",
        "np              module           <module 'numpy' from '/us<...>ages/numpy/__init__.pyc'>\n",
        "pca             PCA              PCA(copy=True, n_components=64, whiten=False)\n",
        "plt             module           <module 'matplotlib.pyplo<...>7/matplotlib/pyplot.pyc'>\n",
        "tmp             dict             n=10\n",
        "v               float            8.0\n",
        "y               ndarray          1797: 1797 elems, type `int64`, 14376 bytes\n",
        "z               dict             n=16\n"
       ]
      }
     ],
     "prompt_number": 36
    },
    {
     "cell_type": "code",
     "collapsed": false,
     "input": [
      "from sklearn.preprocessing import scale, normalize"
     ],
     "language": "python",
     "metadata": {},
     "outputs": [],
     "prompt_number": 49
    },
    {
     "cell_type": "code",
     "collapsed": false,
     "input": [
      "scale?"
     ],
     "language": "python",
     "metadata": {},
     "outputs": [],
     "prompt_number": 50
    },
    {
     "cell_type": "code",
     "collapsed": false,
     "input": [
      "pcas = {}\n",
      "data = {}\n",
      "for k,v in clean.items():\n",
      "    v = [a.reshape(-1) for a in v]\n",
      "    v = np.array(v)\n",
      "    v = scale(v)\n",
      "    data[k] = v\n",
      "    pcas[k] = PCA(96721).fit(v)"
     ],
     "language": "python",
     "metadata": {},
     "outputs": [],
     "prompt_number": 57
    },
    {
     "cell_type": "code",
     "collapsed": false,
     "input": [
      "for pca in pcas:\n",
      "    plt.semilogx(np.cumsum(pcas[pca].explained_variance_ratio_), label= str(pca))\n",
      "plt.legend()\n",
      "plt.xlabel('number of components')\n",
      "plt.ylabel('cumulative explained vaiance')"
     ],
     "language": "python",
     "metadata": {},
     "outputs": [
      {
       "metadata": {},
       "output_type": "pyout",
       "prompt_number": 65,
       "text": [
        "<matplotlib.text.Text at 0x58db850>"
       ]
      },
      {
       "metadata": {},
       "output_type": "display_data",
       "png": "[encoded data removed]",
       "text": [
        "<matplotlib.figure.Figure at 0x6b27690>"
       ]
      }
     ],
     "prompt_number": 65
    },
    {
     "cell_type": "code",
     "collapsed": false,
     "input": [],
     "language": "python",
     "metadata": {},
     "outputs": []
    }
   ],
   "metadata": {}
  }
 ]
}